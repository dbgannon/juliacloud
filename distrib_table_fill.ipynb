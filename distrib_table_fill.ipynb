{
 "cells": [
  {
   "cell_type": "markdown",
   "metadata": {},
   "source": [
    "## using Azure Table service from Kubernetes\n",
    "this example was run on azure to show how julia can interact with cloud services.   it set up a channel and workers fetch elements from the channel and then push the results to the azure table service."
   ]
  },
  {
   "cell_type": "code",
   "execution_count": 1,
   "metadata": {},
   "outputs": [],
   "source": [
    "using Distributed"
   ]
  },
  {
   "cell_type": "code",
   "execution_count": 2,
   "metadata": {},
   "outputs": [
    {
     "data": {
      "text/plain": [
       "4-element Array{Tuple{String,Int64},1}:\n",
       " (\"dbgannon@104.215.80.203\", 2)\n",
       " (\"dbgannon@40.74.255.62\", 2)  \n",
       " (\"dbgannon@40.74.246.210\", 2) \n",
       " (\"dbgannon@13.66.4.241\", 2)   "
      ]
     },
     "execution_count": 2,
     "metadata": {},
     "output_type": "execute_result"
    }
   ],
   "source": [
    "workervec = [(\"dbgannon@104.215.80.203\", 2), (\"dbgannon@40.74.255.62\", 2), (\"dbgannon@40.74.246.210\", 2),(\"dbgannon@13.66.4.241\", 2)]"
   ]
  },
  {
   "cell_type": "code",
   "execution_count": 3,
   "metadata": {},
   "outputs": [
    {
     "data": {
      "text/plain": [
       "8-element Array{Int64,1}:\n",
       " 2\n",
       " 3\n",
       " 4\n",
       " 5\n",
       " 6\n",
       " 7\n",
       " 8\n",
       " 9"
      ]
     },
     "execution_count": 3,
     "metadata": {},
     "output_type": "execute_result"
    }
   ],
   "source": [
    "addprocs(workervec ; sshflags=`-i /home/dbgannon/.ssh/newkey`, tunnel=true, exename=`/home/dbgannon/julia-1.0.1/bin/julia`)"
   ]
  },
  {
   "cell_type": "code",
   "execution_count": 4,
   "metadata": {},
   "outputs": [],
   "source": [
    "@everywhere using Distributed"
   ]
  },
  {
   "cell_type": "code",
   "execution_count": 6,
   "metadata": {},
   "outputs": [],
   "source": [
    "@everywhere using PyCall"
   ]
  },
  {
   "cell_type": "code",
   "execution_count": 7,
   "metadata": {},
   "outputs": [],
   "source": [
    "@everywhere @pyimport azure.cosmosdb.table as aztable"
   ]
  },
  {
   "cell_type": "code",
   "execution_count": 8,
   "metadata": {},
   "outputs": [],
   "source": [
    "@everywhere tbl = aztable.TableService(\"dbgannonstorage\", \"asure storage key here\")"
   ]
  },
  {
   "cell_type": "code",
   "execution_count": 9,
   "metadata": {},
   "outputs": [],
   "source": [
    "@everywhere function putInTable(table, row, data)\n",
    "    item = Dict{Any,Any}()\n",
    "    item[\"PartitionKey\"]= string(\"Node_\",string(myid()))\n",
    "    item[\"RowKey\"] = string(row)\n",
    "    item[\"thedata\"] = data\n",
    "    table[:insert_entity](\"datafromjulia\", item)\n",
    "end"
   ]
  },
  {
   "cell_type": "code",
   "execution_count": 13,
   "metadata": {},
   "outputs": [
    {
     "data": {
      "text/plain": [
       "Future(2, 1, 129, nothing)"
      ]
     },
     "execution_count": 13,
     "metadata": {},
     "output_type": "execute_result"
    }
   ],
   "source": [
    "x = @spawnat 2 putInTable(tbl, 3,\"the data\")"
   ]
  },
  {
   "cell_type": "code",
   "execution_count": 14,
   "metadata": {},
   "outputs": [
    {
     "data": {
      "text/plain": [
       "\"W/\\\"datetime'2018-11-19T01%3A22%3A26.0368565Z'\\\"\""
      ]
     },
     "execution_count": 14,
     "metadata": {},
     "output_type": "execute_result"
    }
   ],
   "source": [
    "fetch(x)"
   ]
  },
  {
   "cell_type": "code",
   "execution_count": 15,
   "metadata": {},
   "outputs": [
    {
     "data": {
      "text/plain": [
       "RemoteChannel{Channel{String}}(1, 1, 131)"
      ]
     },
     "execution_count": 15,
     "metadata": {},
     "output_type": "execute_result"
    }
   ],
   "source": [
    "ch = RemoteChannel(()->Channel{String}(1000), 1)"
   ]
  },
  {
   "cell_type": "code",
   "execution_count": 24,
   "metadata": {},
   "outputs": [],
   "source": [
    "@everywhere function listen(ch, tbl)\n",
    "    println(\"listen started\")\n",
    "    row = 0\n",
    "    id = \"1\"\n",
    "    while id != \"-1\"\n",
    "        id = take!(ch)\n",
    "        x = string(\"out from \",string(myid()),\" val=\", string(id))\n",
    "        putInTable(tbl,row, x )\n",
    "        row = row+1\n",
    "    end\n",
    "    println(\"listen done\")\n",
    "end"
   ]
  },
  {
   "cell_type": "code",
   "execution_count": 34,
   "metadata": {},
   "outputs": [
    {
     "data": {
      "text/plain": [
       "8-element Array{Future,1}:\n",
       " Future(2, 1, 196, nothing)\n",
       " Future(3, 1, 197, nothing)\n",
       " Future(4, 1, 198, nothing)\n",
       " Future(5, 1, 199, nothing)\n",
       " Future(6, 1, 200, nothing)\n",
       " Future(7, 1, 201, nothing)\n",
       " Future(8, 1, 202, nothing)\n",
       " Future(9, 1, 203, nothing)"
      ]
     },
     "execution_count": 34,
     "metadata": {},
     "output_type": "execute_result"
    },
    {
     "name": "stdout",
     "output_type": "stream",
     "text": [
      "      From worker 2:\tlisten started\n",
      "      From worker 3:\tlisten started\n",
      "      From worker 5:\tlisten started\n",
      "      From worker 4:\tlisten started\n",
      "      From worker 7:\tlisten started\n",
      "      From worker 6:\tlisten started\n",
      "      From worker 8:\tlisten started\n",
      "      From worker 9:\tlisten started\n"
     ]
    }
   ],
   "source": [
    "x = [@spawnat i listen(ch, tbl) for i in workers()]"
   ]
  },
  {
   "cell_type": "code",
   "execution_count": 29,
   "metadata": {},
   "outputs": [
    {
     "data": {
      "text/plain": [
       "putInCh (generic function with 1 method)"
      ]
     },
     "execution_count": 29,
     "metadata": {},
     "output_type": "execute_result"
    }
   ],
   "source": [
    "function putInCh(ch)\n",
    "    for i=1:8\n",
    "        put!(ch, string(-1))\n",
    "    end\n",
    "    return 1\n",
    "end"
   ]
  },
  {
   "cell_type": "code",
   "execution_count": 35,
   "metadata": {},
   "outputs": [
    {
     "data": {
      "text/plain": [
       "1"
      ]
     },
     "execution_count": 35,
     "metadata": {},
     "output_type": "execute_result"
    },
    {
     "name": "stdout",
     "output_type": "stream",
     "text": [
      "      From worker 4:\tlisten done\n",
      "      From worker 9:\tlisten done\n",
      "      From worker 3:\tlisten done\n",
      "      From worker 5:\tlisten done\n",
      "      From worker 2:\tlisten done\n",
      "      From worker 7:\tlisten done\n",
      "      From worker 6:\tlisten done\n",
      "      From worker 8:\tlisten done\n"
     ]
    }
   ],
   "source": [
    "putInCh(ch)"
   ]
  },
  {
   "cell_type": "code",
   "execution_count": 26,
   "metadata": {},
   "outputs": [
    {
     "data": {
      "text/plain": [
       "RemoteChannel{Channel{String}}(1, 1, 131)"
      ]
     },
     "execution_count": 26,
     "metadata": {},
     "output_type": "execute_result"
    },
    {
     "name": "stdout",
     "output_type": "stream",
     "text": [
      "      From worker 3:\tlisten done\n"
     ]
    }
   ],
   "source": [
    "put!(ch, string(-1))"
   ]
  },
  {
   "cell_type": "code",
   "execution_count": 31,
   "metadata": {},
   "outputs": [
    {
     "data": {
      "text/plain": [
       "8-element Array{Future,1}:\n",
       " Future(2, 1, 180, nothing)\n",
       " Future(3, 1, 181, nothing)\n",
       " Future(4, 1, 182, nothing)\n",
       " Future(5, 1, 183, nothing)\n",
       " Future(6, 1, 184, nothing)\n",
       " Future(7, 1, 185, nothing)\n",
       " Future(8, 1, 186, nothing)\n",
       " Future(9, 1, 187, nothing)"
      ]
     },
     "execution_count": 31,
     "metadata": {},
     "output_type": "execute_result"
    }
   ],
   "source": [
    "fetch(x)"
   ]
  },
  {
   "cell_type": "code",
   "execution_count": 23,
   "metadata": {},
   "outputs": [
    {
     "data": {
      "text/plain": [
       "\"-1\""
      ]
     },
     "execution_count": 23,
     "metadata": {},
     "output_type": "execute_result"
    }
   ],
   "source": [
    "take!(ch)"
   ]
  },
  {
   "cell_type": "code",
   "execution_count": null,
   "metadata": {},
   "outputs": [],
   "source": []
  }
 ],
 "metadata": {
  "kernelspec": {
   "display_name": "Julia 1.0.0",
   "language": "julia",
   "name": "julia-1.0"
  },
  "language_info": {
   "file_extension": ".jl",
   "mimetype": "application/julia",
   "name": "julia",
   "version": "1.0.0"
  }
 },
 "nbformat": 4,
 "nbformat_minor": 2
}
