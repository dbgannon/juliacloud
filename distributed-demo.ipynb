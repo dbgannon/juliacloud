{
 "cells": [
  {
   "cell_type": "markdown",
   "metadata": {},
   "source": [
    "## distributed demo\n",
    "this notebook shows how to run distributed julia programs.   it assumes you have a version of julia running on a machine on your local network.   In this case the worker container was run with the command \n",
    "\n",
    "<pre>\n",
    "docker run -it -d -p 3456:22 dbgannon/juliacloud2\n",
    "</pre>\n",
    "the IP address of the machine where this was run is known to be 10.0.0.29."
   ]
  },
  {
   "cell_type": "code",
   "execution_count": 1,
   "metadata": {},
   "outputs": [
    {
     "data": {
      "text/plain": [
       "1-element Array{Int64,1}:\n",
       " 1"
      ]
     },
     "execution_count": 1,
     "metadata": {},
     "output_type": "execute_result"
    }
   ],
   "source": [
    "using Distributed\n",
    "workers()"
   ]
  },
  {
   "cell_type": "code",
   "execution_count": 2,
   "metadata": {},
   "outputs": [
    {
     "data": {
      "text/plain": [
       "3-element Array{Int64,1}:\n",
       " 2\n",
       " 3\n",
       " 4"
      ]
     },
     "execution_count": 2,
     "metadata": {},
     "output_type": "execute_result"
    }
   ],
   "source": [
    "workervec = [(\"jovyan@10.0.0.29:3456\", 2),(\"jovyan@10.0.75.1:3456\", 1)]\n",
    "addprocs(workervec ; sshflags=`-i /home/jovyan/.ssh/pubkey`, \n",
    "         tunnel=true, exename=`/usr/local/bin/julia`)\n",
    "\n"
   ]
  },
  {
   "cell_type": "code",
   "execution_count": 3,
   "metadata": {},
   "outputs": [],
   "source": [
    "@everywhere using Distributed"
   ]
  },
  {
   "cell_type": "code",
   "execution_count": 5,
   "metadata": {},
   "outputs": [],
   "source": [
    "@everywhere using PyCall"
   ]
  },
  {
   "cell_type": "code",
   "execution_count": 6,
   "metadata": {},
   "outputs": [],
   "source": [
    "@everywhere @pyimport socket"
   ]
  },
  {
   "cell_type": "code",
   "execution_count": 7,
   "metadata": {},
   "outputs": [],
   "source": [
    "@everywhere function printhello(data)\n",
    "    println(\"hi from node \",myid() )\n",
    "    print(\"my hostnameis \", socket.gethostname())\n",
    "    println(\" and the data is \", data)\n",
    "end"
   ]
  },
  {
   "cell_type": "code",
   "execution_count": 8,
   "metadata": {},
   "outputs": [
    {
     "data": {
      "text/plain": [
       "3-element Array{Int64,1}:\n",
       " 2\n",
       " 3\n",
       " 4"
      ]
     },
     "execution_count": 8,
     "metadata": {},
     "output_type": "execute_result"
    }
   ],
   "source": [
    "workers()"
   ]
  },
  {
   "cell_type": "code",
   "execution_count": 9,
   "metadata": {},
   "outputs": [
    {
     "data": {
      "text/plain": [
       "3-element Array{Future,1}:\n",
       " Future(2, 1, 42, nothing)\n",
       " Future(3, 1, 43, nothing)\n",
       " Future(4, 1, 44, nothing)"
      ]
     },
     "execution_count": 9,
     "metadata": {},
     "output_type": "execute_result"
    },
    {
     "name": "stdout",
     "output_type": "stream",
     "text": [
      "      From worker 3:\thi from node 3\n",
      "      From worker 3:\tmy hostnameis 4f6329fc6694 and the data is 30\n",
      "      From worker 4:\thi from node 4\n",
      "      From worker 4:\tmy hostnameis 4f6329fc6694 and the data is 40\n",
      "      From worker 2:\thi from node 2\n",
      "      From worker 2:\tmy hostnameis bdfb4a7068e2 and the data is 20\n"
     ]
    }
   ],
   "source": [
    "x = [@spawnat i printhello( i*10 ) for i in workers()]"
   ]
  },
  {
   "cell_type": "code",
   "execution_count": null,
   "metadata": {},
   "outputs": [],
   "source": [
    "fetch(x)"
   ]
  },
  {
   "cell_type": "code",
   "execution_count": 10,
   "metadata": {},
   "outputs": [
    {
     "data": {
      "text/plain": [
       "RemoteChannel{Channel{String}}(1, 1, 45)"
      ]
     },
     "execution_count": 10,
     "metadata": {},
     "output_type": "execute_result"
    }
   ],
   "source": [
    "ch = RemoteChannel(()->Channel{String}(1000), 1)"
   ]
  },
  {
   "cell_type": "code",
   "execution_count": 11,
   "metadata": {},
   "outputs": [],
   "source": [
    "@everywhere function listen(ch)\n",
    "    println(\"listen started\")\n",
    "    row = 0\n",
    "    id = \"1\"\n",
    "    while id != \"-1\"\n",
    "        id = take!(ch)\n",
    "        x = string(\"out from \",string(myid()),\" val=\", string(id), \" row =\", string(row))\n",
    "        println(x)\n",
    "        #putInTable(tbl,row, x )\n",
    "        row = row+1\n",
    "    end\n",
    "    println(\"listen done\")\n",
    "end"
   ]
  },
  {
   "cell_type": "code",
   "execution_count": 12,
   "metadata": {},
   "outputs": [
    {
     "data": {
      "text/plain": [
       "3-element Array{Future,1}:\n",
       " Future(2, 1, 52, nothing)\n",
       " Future(3, 1, 53, nothing)\n",
       " Future(4, 1, 54, nothing)"
      ]
     },
     "execution_count": 12,
     "metadata": {},
     "output_type": "execute_result"
    },
    {
     "name": "stdout",
     "output_type": "stream",
     "text": [
      "      From worker 3:\tlisten started\n",
      "      From worker 4:\tlisten started\n",
      "      From worker 2:\tlisten started\n"
     ]
    }
   ],
   "source": [
    "x = [@spawnat i listen(ch) for i in workers()]"
   ]
  },
  {
   "cell_type": "code",
   "execution_count": 13,
   "metadata": {},
   "outputs": [
    {
     "data": {
      "text/plain": [
       "putInCh (generic function with 1 method)"
      ]
     },
     "execution_count": 13,
     "metadata": {},
     "output_type": "execute_result"
    }
   ],
   "source": [
    "function putInCh(ch)\n",
    "    for i=1:4\n",
    "        put!(ch, string(i))\n",
    "        println(i)\n",
    "    end\n",
    "end"
   ]
  },
  {
   "cell_type": "code",
   "execution_count": 14,
   "metadata": {},
   "outputs": [
    {
     "name": "stdout",
     "output_type": "stream",
     "text": [
      "1\n",
      "2\n",
      "3\n",
      "4\n",
      "      From worker 3:\tout from 3 val=2 row =0\n",
      "      From worker 4:\tout from 4 val=1 row =0\n",
      "      From worker 2:\tout from 2 val=3 row =0\n",
      "      From worker 3:\tout from 3 val=4 row =1\n"
     ]
    }
   ],
   "source": [
    "putInCh(ch)"
   ]
  },
  {
   "cell_type": "code",
   "execution_count": 15,
   "metadata": {},
   "outputs": [
    {
     "data": {
      "text/plain": [
       "RemoteChannel{Channel{String}}(1, 1, 45)"
      ]
     },
     "execution_count": 15,
     "metadata": {},
     "output_type": "execute_result"
    },
    {
     "name": "stdout",
     "output_type": "stream",
     "text": [
      "      From worker 4:\tout from 4 val=-1 row =1\n",
      "      From worker 4:\tlisten done\n"
     ]
    }
   ],
   "source": [
    "put!(ch, string(-1))"
   ]
  },
  {
   "cell_type": "code",
   "execution_count": 16,
   "metadata": {},
   "outputs": [
    {
     "data": {
      "text/plain": [
       "RemoteChannel{Channel{String}}(1, 1, 45)"
      ]
     },
     "execution_count": 16,
     "metadata": {},
     "output_type": "execute_result"
    },
    {
     "name": "stdout",
     "output_type": "stream",
     "text": [
      "      From worker 2:\tout from 2 val=-1 row =1\n",
      "      From worker 2:\tlisten done\n"
     ]
    }
   ],
   "source": [
    "put!(ch, string(-1))"
   ]
  },
  {
   "cell_type": "code",
   "execution_count": 17,
   "metadata": {},
   "outputs": [
    {
     "data": {
      "text/plain": [
       "RemoteChannel{Channel{String}}(1, 1, 45)"
      ]
     },
     "execution_count": 17,
     "metadata": {},
     "output_type": "execute_result"
    },
    {
     "name": "stdout",
     "output_type": "stream",
     "text": [
      "      From worker 3:\tout from 3 val=-1 row =2\n",
      "      From worker 3:\tlisten done\n"
     ]
    }
   ],
   "source": [
    "put!(ch, string(-1))"
   ]
  },
  {
   "cell_type": "code",
   "execution_count": null,
   "metadata": {},
   "outputs": [],
   "source": []
  }
 ],
 "metadata": {
  "kernelspec": {
   "display_name": "Julia 1.0.0",
   "language": "julia",
   "name": "julia-1.0"
  },
  "language_info": {
   "file_extension": ".jl",
   "mimetype": "application/julia",
   "name": "julia",
   "version": "1.0.0"
  }
 },
 "nbformat": 4,
 "nbformat_minor": 2
}
